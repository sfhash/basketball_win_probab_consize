{
 "cells": [
  {
   "cell_type": "code",
   "execution_count": 1,
   "id": "cf5a01c7",
   "metadata": {},
   "outputs": [],
   "source": [
    "import pandas as pd\n",
    "import numpy as np\n",
    "import matplotlib.pyplot as plt\n",
    "import seaborn as sns\n",
    "%matplotlib inline\n",
    "import warnings\n",
    "warnings.filterwarnings('ignore')\n",
    "import tensorflow as tf"
   ]
  },
  {
   "cell_type": "code",
   "execution_count": 2,
   "id": "cb5784b1",
   "metadata": {},
   "outputs": [],
   "source": [
    "df10=pd.read_csv('inputWithRank.csv')\n",
    "df10.drop(labels='Unnamed: 0',axis=1,inplace=True)"
   ]
  },
  {
   "cell_type": "code",
   "execution_count": 3,
   "id": "c5cc49e3",
   "metadata": {},
   "outputs": [],
   "source": [
    "from sklearn import preprocessing\n",
    "label_encoder = preprocessing.LabelEncoder()\n",
    "df10['EventType']= label_encoder.fit_transform(df10['EventType'])\n",
    "df10.drop(labels='matchUniqueID',axis=1,inplace=True)\n",
    "df10.drop(labels=['DayNum','TeamID1','TeamID2'],axis=1,inplace=True)"
   ]
  },
  {
   "cell_type": "code",
   "execution_count": 4,
   "id": "e269a7b4",
   "metadata": {},
   "outputs": [],
   "source": [
    "# input data \n",
    "X_train=df10[df10['Season']<=2017][['isTeam1Home', 'isTeam2Home', 'Points1', 'Points2','ElapsedSeconds', 'EventTeam', 'EventType', 'OrdRankTeam1','OrdRankTeam2']]\n",
    "Y_train=df10[df10['Season']<=2017][['Win1']]\n",
    "\n",
    "X_test=df10[df10['Season']==2018][['isTeam1Home', 'isTeam2Home', 'Points1', 'Points2','ElapsedSeconds', 'EventTeam', 'EventType', 'OrdRankTeam1','OrdRankTeam2']]\n",
    "Y_test=df10[df10['Season']==2018][['Win1']]"
   ]
  },
  {
   "cell_type": "code",
   "execution_count": 5,
   "id": "3d2c90fe",
   "metadata": {},
   "outputs": [
    {
     "name": "stdout",
     "output_type": "stream",
     "text": [
      "Model: \"sequential\"\n",
      "_________________________________________________________________\n",
      "Layer (type)                 Output Shape              Param #   \n",
      "=================================================================\n",
      "dense (Dense)                (None, 8)                 80        \n",
      "_________________________________________________________________\n",
      "dense_1 (Dense)              (None, 8)                 72        \n",
      "_________________________________________________________________\n",
      "dense_2 (Dense)              (None, 1)                 9         \n",
      "=================================================================\n",
      "Total params: 161\n",
      "Trainable params: 161\n",
      "Non-trainable params: 0\n",
      "_________________________________________________________________\n",
      "Epoch 1/20\n",
      "6346/6346 [==============================] - 8s 1ms/step - loss: 1.0551 - accuracy: 0.7096 - auc: 0.7917: 0s - loss: 1.0904 - accuracy\n",
      "Epoch 2/20\n",
      "6346/6346 [==============================] - 6s 1ms/step - loss: 0.6042 - accuracy: 0.7551 - auc: 0.8445\n",
      "Epoch 3/20\n",
      "6346/6346 [==============================] - 7s 1ms/step - loss: 0.5371 - accuracy: 0.7686 - auc: 0.8578: 0s - loss: 0.5381 - accuracy: 0.7684 -\n",
      "Epoch 4/20\n",
      "6346/6346 [==============================] - 7s 1ms/step - loss: 0.4901 - accuracy: 0.7791 - auc: 0.8684\n",
      "Epoch 5/20\n",
      "6346/6346 [==============================] - 7s 1ms/step - loss: 0.4507 - accuracy: 0.7897 - auc: 0.8789\n",
      "Epoch 6/20\n",
      "6346/6346 [==============================] - 6s 1ms/step - loss: 0.4204 - accuracy: 0.8000 - auc: 0.8892\n",
      "Epoch 7/20\n",
      "6346/6346 [==============================] - 6s 972us/step - loss: 0.3994 - accuracy: 0.8093 - auc: 0.8982\n",
      "Epoch 8/20\n",
      "6346/6346 [==============================] - 7s 1ms/step - loss: 0.3860 - accuracy: 0.8165 - auc: 0.9049: 0s - loss: 0.3862 - ac\n",
      "Epoch 9/20\n",
      "6346/6346 [==============================] - 7s 1ms/step - loss: 0.3813 - accuracy: 0.8189 - auc: 0.9073\n",
      "Epoch 10/20\n",
      "6346/6346 [==============================] - 7s 1ms/step - loss: 0.3790 - accuracy: 0.8199 - auc: 0.9084: 0s - loss: 0.3790 - accuracy: 0.8199 - auc: 0.\n",
      "Epoch 11/20\n",
      "6346/6346 [==============================] - 7s 1ms/step - loss: 0.3772 - accuracy: 0.8209 - auc: 0.9092\n",
      "Epoch 12/20\n",
      "6346/6346 [==============================] - 7s 1ms/step - loss: 0.3757 - accuracy: 0.8213 - auc: 0.9099\n",
      "Epoch 13/20\n",
      "6346/6346 [==============================] - 7s 1ms/step - loss: 0.3744 - accuracy: 0.8218 - auc: 0.9105\n",
      "Epoch 14/20\n",
      "6346/6346 [==============================] - 7s 1ms/step - loss: 0.3729 - accuracy: 0.8224 - auc: 0.9113\n",
      "Epoch 15/20\n",
      "6346/6346 [==============================] - 7s 1ms/step - loss: 0.3716 - accuracy: 0.8231 - auc: 0.9119: 1s - los\n",
      "Epoch 16/20\n",
      "6346/6346 [==============================] - 7s 1ms/step - loss: 0.3705 - accuracy: 0.8235 - auc: 0.9124: 0s - loss: 0.3703 - accuracy: \n",
      "Epoch 17/20\n",
      "6346/6346 [==============================] - 7s 1ms/step - loss: 0.3698 - accuracy: 0.8240 - auc: 0.9127\n",
      "Epoch 18/20\n",
      "6346/6346 [==============================] - 7s 1ms/step - loss: 0.3692 - accuracy: 0.8243 - auc: 0.9130\n",
      "Epoch 19/20\n",
      "6346/6346 [==============================] - 8s 1ms/step - loss: 0.3685 - accuracy: 0.8244 - auc: 0.9133\n",
      "Epoch 20/20\n",
      "6346/6346 [==============================] - 7s 1ms/step - loss: 0.3682 - accuracy: 0.8246 - auc: 0.9134\n"
     ]
    },
    {
     "data": {
      "text/plain": [
       "<keras.callbacks.History at 0x1163f8902b0>"
      ]
     },
     "execution_count": 5,
     "metadata": {},
     "output_type": "execute_result"
    }
   ],
   "source": [
    "\n",
    "model2 = tf.keras.models.Sequential([\n",
    "    tf.keras.layers.Dense(8, activation='relu', input_shape=[9,]),\n",
    "    tf.keras.layers.Dense(8, activation='relu'),\n",
    "    tf.keras.layers.Dense(1, activation='sigmoid')\n",
    "])\n",
    "\n",
    "\n",
    "\n",
    "model2.compile(optimizer=tf.keras.optimizers.RMSprop(1e-3), loss='binary_crossentropy', metrics=['accuracy', 'AUC'])\n",
    "model2.summary()\n",
    "model2.fit(X_train.to_numpy(),\n",
    "          Y_train.to_numpy(),\n",
    "          verbose=1,\n",
    "          shuffle=True,\n",
    "          epochs=20,\n",
    "          batch_size=512)"
   ]
  },
  {
   "cell_type": "code",
   "execution_count": 6,
   "id": "a994fa48",
   "metadata": {},
   "outputs": [
    {
     "name": "stdout",
     "output_type": "stream",
     "text": [
      "Mean Square Error is : 0.12083973172417445\n",
      "Root Mean Square Error RMSE is : 0.34762009683586254\n",
      "R2 value is 0.5146175137955302\n",
      "Accuracy is 0.8236023307716012\n",
      "Misclassification Error is 0.1763976692283988\n"
     ]
    }
   ],
   "source": [
    "y_pred=model2.predict(X_test)\n",
    "y_pred=pd.DataFrame(y_pred)\n",
    "y=Y_test.copy()\n",
    "y.rename(columns={'Win1':'y_true'},inplace=True)\n",
    "\n",
    "y.insert(1,'y_pred',y_pred)\n",
    "y['Error']=abs(y['y_true']-y['y_pred'])**2\n",
    "\n",
    "\n",
    "y['y_pred_binary']=[1 if x>=0.5 else 0 for x in y['y_pred']]\n",
    "y['Misclassification']=(y['y_pred_binary']-y['y_true'])**2  # here 1=misclassification, 0 means correct prediction\n",
    "print(\"Mean Square Error is :\",y['Error'].mean())\n",
    "\n",
    "\n",
    "print(\"Root Mean Square Error RMSE is :\",np.sqrt(y['Error'].mean()))\n",
    "\n",
    "\n",
    "from sklearn.metrics import r2_score\n",
    "from sklearn.metrics import accuracy_score\n",
    "r2 = r2_score(y['y_true'], y['y_pred'])\n",
    "print('R2 value is', r2)\n",
    "\n",
    "accuracy=accuracy_score(y['y_true'], y['y_pred_binary'])\n",
    "print(\"Accuracy is\", accuracy)\n",
    "\n",
    "print(\"Misclassification Error is\", y['Misclassification'].mean())"
   ]
  },
  {
   "cell_type": "code",
   "execution_count": null,
   "id": "ed30b2e3",
   "metadata": {},
   "outputs": [],
   "source": []
  }
 ],
 "metadata": {
  "kernelspec": {
   "display_name": "Python 3 (ipykernel)",
   "language": "python",
   "name": "python3"
  },
  "language_info": {
   "codemirror_mode": {
    "name": "ipython",
    "version": 3
   },
   "file_extension": ".py",
   "mimetype": "text/x-python",
   "name": "python",
   "nbconvert_exporter": "python",
   "pygments_lexer": "ipython3",
   "version": "3.7.1"
  }
 },
 "nbformat": 4,
 "nbformat_minor": 5
}
